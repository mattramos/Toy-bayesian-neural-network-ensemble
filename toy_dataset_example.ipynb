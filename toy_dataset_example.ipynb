{
 "cells": [
  {
   "cell_type": "code",
   "execution_count": 1,
   "metadata": {
    "colab": {
     "base_uri": "https://localhost:8080/",
     "height": 34
    },
    "id": "v6OkxcgqlJvz",
    "outputId": "adeabbf5-0b40-467c-9a42-20693a435192"
   },
   "outputs": [
    {
     "name": "stdout",
     "output_type": "stream",
     "text": [
      "1.10.0\n"
     ]
    }
   ],
   "source": [
    "import tensorflow as tf\n",
    "print(tf.__version__)\n",
    "\n",
    "import matplotlib.pyplot as plt\n",
    "import baynne as bn\n",
    "# from mpl_toolkits.basemap import Basemap\n",
    "import numpy as np\n",
    "import pandas as pd\n",
    "\n",
    "from sklearn.utils import shuffle\n",
    "\n",
    "import datetime\n",
    "\n",
    "%matplotlib inline\n",
    "\n",
    "# # Make reproducible\n",
    "seed = 0\n",
    "np.random.seed(seed)"
   ]
  },
  {
   "cell_type": "markdown",
   "metadata": {
    "id": "tLrqZt_-mJiW"
   },
   "source": [
    "Create synthetic observations:\n",
    "- First describe the spatio temporal grid\n",
    "- Then create a function for the synthetic observations"
   ]
  },
  {
   "cell_type": "code",
   "execution_count": 2,
   "metadata": {
    "id": "zpgIKZiSmDMv"
   },
   "outputs": [],
   "source": [
    "n_years = 20\n",
    "lats = np.arange(-90, 90, 180/24)\n",
    "lons = np.arange(-180,180, 360/24)\n",
    "time = np.arange(0, n_years, 1/12)\n",
    "mons = np.tile(np.arange(1, 13, 1), n_years)"
   ]
  },
  {
   "cell_type": "code",
   "execution_count": 3,
   "metadata": {
    "id": "6QPauEdomDFE"
   },
   "outputs": [],
   "source": [
    "def obs_fun(time, lat, lon, month):\n",
    "    f = (0.5 * (((lat/90)  ** 2) + 0.5 * np.sin(2 * np.pi * lon/180)) - 0.2 * np.cos(np.pi * month/6))\n",
    "    return f"
   ]
  },
  {
   "cell_type": "code",
   "execution_count": 4,
   "metadata": {
    "id": "zqhsBp8ymA0u"
   },
   "outputs": [],
   "source": [
    "obs = np.zeros([len(time), len(lats), len(lons)])\n",
    "for i, t in enumerate(time):\n",
    "    for j, lat in enumerate(lats):\n",
    "        for k, lon in enumerate(lons):\n",
    "            obs[i, j, k] = obs_fun(t, lat, lon, mons[i])"
   ]
  },
  {
   "cell_type": "markdown",
   "metadata": {
    "id": "-wRqrux4n5Dj"
   },
   "source": [
    "Now we can make some synthetic model output, which perform well in certain regions and have specified bias. The models also have a small amount of noise added (0.005). Where the models are correct there is Guassian noise\n",
    "- Model 1: True from 30N to 90N with a 0.03 bias\n",
    "- Model 2: True from 30S to 30N with no bias\n",
    "- Model 3: True from 30S to 30N with no bias\n",
    "- Model 4: True from 90S to 30S with +0.03 bias\n",
    "\n",
    "We also define that the observations have the following noise:\n",
    "- 0.01 for 30N to 90N \n",
    "- 0.02 for 30S to 30N \n",
    "- 0.03 for 90S to 30S "
   ]
  },
  {
   "cell_type": "code",
   "execution_count": 5,
   "metadata": {
    "id": "XYlUOPlgn4gr"
   },
   "outputs": [],
   "source": [
    "idx_30s = int(len(lats) / 3)\n",
    "idx_30n = - idx_30s\n",
    "\n",
    "mdl1 = obs.copy() - 0.03 + np.random.normal(size=[len(time), len(lats), len(lons)]) * 0.005\n",
    "mdl1[:,:idx_30n, :] = np.random.random([len(time), len(lats) - idx_30s, len(lons)]) * 2 - 1\n",
    "mdl2 = obs.copy() + np.random.normal(size=[len(time),len(lats), len(lons)]) * 0.005 \n",
    "mdl2[:,:idx_30s, :] = np.random.random([len(time), idx_30s, len(lons)]) * 2 - 1\n",
    "mdl2[:,idx_30n:, :] = np.random.random([len(time), idx_30s, len(lons)]) * 2 - 1\n",
    "mdl3 = obs.copy() + np.random.normal(size=[len(time), len(lats), len(lons)]) * 0.005\n",
    "mdl3[:,:idx_30s, :] = np.random.random([len(time), idx_30s, len(lons)]) * 2 - 1\n",
    "mdl3[:,idx_30n:, :] = np.random.random([len(time), idx_30s, len(lons)]) * 2 - 1\n",
    "mdl4 = obs.copy() + 0.03 + np.random.normal(size=[len(time), len(lats), len(lons)]) * 0.005\n",
    "mdl4[:,idx_30s:, :] = np.random.random([len(time), len(lats) - idx_30s, len(lons)]) * 2 - 1\n",
    "\n",
    "# Add noise\n",
    "obs[:,idx_30n:, :] = obs[:,idx_30n:, :] + np.random.normal(size=obs[:,idx_30n:, :].shape) * 0.01\n",
    "obs[:,idx_30s:idx_30n, :] = obs[:,idx_30s:idx_30n, :] + np.random.normal(size=obs[:,idx_30s:idx_30n, :].shape) * 0.02\n",
    "obs[:,:idx_30s, :] = obs[:,:idx_30s, :] + np.random.normal(size=obs[:,:idx_30s, :].shape) * 0.03"
   ]
  },
  {
   "cell_type": "markdown",
   "metadata": {
    "id": "ZBuomJbGBV84"
   },
   "source": [
    "Plot the model 'predictions' and 'obs'"
   ]
  },
  {
   "cell_type": "code",
   "execution_count": 6,
   "metadata": {
    "id": "KILkr_K8BVLa"
   },
   "outputs": [
    {
     "ename": "NameError",
     "evalue": "name 'Basemap' is not defined",
     "output_type": "error",
     "traceback": [
      "\u001b[0;31m---------------------------------------------------------------------------\u001b[0m",
      "\u001b[0;31mNameError\u001b[0m                                 Traceback (most recent call last)",
      "\u001b[0;32m<ipython-input-6-f9892b9bd67e>\u001b[0m in \u001b[0;36m<module>\u001b[0;34m\u001b[0m\n\u001b[1;32m      1\u001b[0m \u001b[0;31m# Set up basemap plots\u001b[0m\u001b[0;34m\u001b[0m\u001b[0;34m\u001b[0m\u001b[0;34m\u001b[0m\u001b[0m\n\u001b[0;32m----> 2\u001b[0;31m \u001b[0mm\u001b[0m\u001b[0;34m=\u001b[0m\u001b[0mBasemap\u001b[0m\u001b[0;34m(\u001b[0m\u001b[0mlat_0\u001b[0m\u001b[0;34m=\u001b[0m\u001b[0;36m0\u001b[0m\u001b[0;34m,\u001b[0m \u001b[0mlon_0\u001b[0m\u001b[0;34m=\u001b[0m\u001b[0;36m0\u001b[0m\u001b[0;34m,\u001b[0m \u001b[0mprojection\u001b[0m\u001b[0;34m=\u001b[0m\u001b[0;34m'robin'\u001b[0m\u001b[0;34m,\u001b[0m \u001b[0mresolution\u001b[0m\u001b[0;34m=\u001b[0m\u001b[0;34m'c'\u001b[0m\u001b[0;34m)\u001b[0m\u001b[0;34m\u001b[0m\u001b[0;34m\u001b[0m\u001b[0m\n\u001b[0m\u001b[1;32m      3\u001b[0m \u001b[0mlon\u001b[0m \u001b[0;34m=\u001b[0m \u001b[0mnp\u001b[0m\u001b[0;34m.\u001b[0m\u001b[0marange\u001b[0m\u001b[0;34m(\u001b[0m\u001b[0;34m-\u001b[0m\u001b[0;36m180\u001b[0m \u001b[0;34m,\u001b[0m\u001b[0;36m181\u001b[0m\u001b[0;34m,\u001b[0m\u001b[0;36m360\u001b[0m\u001b[0;34m/\u001b[0m\u001b[0mlen\u001b[0m\u001b[0;34m(\u001b[0m\u001b[0mlons\u001b[0m\u001b[0;34m)\u001b[0m\u001b[0;34m)\u001b[0m\u001b[0;34m\u001b[0m\u001b[0;34m\u001b[0m\u001b[0m\n\u001b[1;32m      4\u001b[0m \u001b[0mlat\u001b[0m \u001b[0;34m=\u001b[0m \u001b[0mnp\u001b[0m\u001b[0;34m.\u001b[0m\u001b[0marange\u001b[0m\u001b[0;34m(\u001b[0m\u001b[0;34m-\u001b[0m\u001b[0;36m90\u001b[0m \u001b[0;34m,\u001b[0m \u001b[0;36m91\u001b[0m\u001b[0;34m,\u001b[0m \u001b[0;36m180\u001b[0m\u001b[0;34m/\u001b[0m\u001b[0mlen\u001b[0m\u001b[0;34m(\u001b[0m\u001b[0mlats\u001b[0m\u001b[0;34m)\u001b[0m\u001b[0;34m)\u001b[0m\u001b[0;34m\u001b[0m\u001b[0;34m\u001b[0m\u001b[0m\n\u001b[1;32m      5\u001b[0m \u001b[0mlons_plot\u001b[0m\u001b[0;34m,\u001b[0m \u001b[0mlats_plot\u001b[0m \u001b[0;34m=\u001b[0m \u001b[0mnp\u001b[0m\u001b[0;34m.\u001b[0m\u001b[0mmeshgrid\u001b[0m\u001b[0;34m(\u001b[0m\u001b[0mlon\u001b[0m\u001b[0;34m,\u001b[0m \u001b[0mlat\u001b[0m\u001b[0;34m)\u001b[0m\u001b[0;34m\u001b[0m\u001b[0;34m\u001b[0m\u001b[0m\n",
      "\u001b[0;31mNameError\u001b[0m: name 'Basemap' is not defined"
     ]
    }
   ],
   "source": [
    "# Set up basemap plots\n",
    "m=Basemap(lat_0=0, lon_0=0, projection='robin', resolution='c')\n",
    "lon = np.arange(-180 ,181,360/len(lons))\n",
    "lat = np.arange(-90 , 91, 180/len(lats))\n",
    "lons_plot, lats_plot = np.meshgrid(lon, lat)\n",
    "x_plot, y_plot = m(lons_plot, lats_plot)"
   ]
  },
  {
   "cell_type": "code",
   "execution_count": null,
   "metadata": {
    "colab": {
     "base_uri": "https://localhost:8080/",
     "height": 740
    },
    "id": "ggoPgGCWCj2C",
    "outputId": "cfbeab1b-c38e-450b-aed5-4ca36b1d0cff"
   },
   "outputs": [],
   "source": [
    "fig, axes = plt.subplots(nrows=3, ncols=2, figsize=(11,14))\n",
    "\n",
    "p1 = m.pcolormesh(x_plot, y_plot, mdl1[0], vmin=-1, vmax=1, ax=axes[0][0])\n",
    "axes[0][0].title.set_text('Model 1')\n",
    "m.drawcoastlines(color='white', ax=axes[0][0])\n",
    "\n",
    "p2 = m.pcolormesh(x_plot, y_plot, mdl2[0], vmin=-1, vmax=1, ax=axes[0][1])\n",
    "axes[0][1].title.set_text('Model 2')\n",
    "m.drawcoastlines(color='white', ax=axes[0][1])\n",
    "\n",
    "p3 = m.pcolormesh(x_plot, y_plot, mdl3[0], vmin=-1, vmax=1, ax=axes[1][0])\n",
    "axes[1][0].title.set_text('Model 3')\n",
    "m.drawcoastlines(color='white', ax=axes[1][0])\n",
    "\n",
    "p4 = m.pcolormesh(x_plot, y_plot, mdl4[0], vmin=-1, vmax=1, ax=axes[1][1])\n",
    "axes[1][1].title.set_text('Model 4')\n",
    "m.drawcoastlines(color='white', ax=axes[1][1])\n",
    "\n",
    "p5 = m.pcolormesh(x_plot, y_plot, obs[0], vmin=-1, vmax=1, ax=axes[2][1])\n",
    "axes[2][1].title.set_text('Obs')\n",
    "m.drawcoastlines(color='white', ax=axes[2][1])\n",
    "\n",
    "fig.delaxes(axes[2][0])\n",
    "\n",
    "cb = fig.colorbar(p4, ax=axes.ravel().tolist(), location='bottom')\n",
    "cb.set_label('Values')"
   ]
  },
  {
   "cell_type": "markdown",
   "metadata": {
    "id": "FVSb8qVAqbZU"
   },
   "source": [
    "We put the models, observations and defining coordinates into a dataframe."
   ]
  },
  {
   "cell_type": "code",
   "execution_count": 7,
   "metadata": {
    "id": "x--oeVanqbIJ"
   },
   "outputs": [],
   "source": [
    "df = pd.DataFrame()\n",
    "df['mdl1'] = mdl1.ravel()\n",
    "df['mdl2'] = mdl2.ravel()\n",
    "df['mdl3'] = mdl3.ravel()\n",
    "df['mdl4'] = mdl4.ravel()"
   ]
  },
  {
   "cell_type": "markdown",
   "metadata": {
    "id": "xbm0rNyJqj5T"
   },
   "source": [
    "To avoid the issue of longitude being discontinuous (0 degrees is the same as 360 degrees but is numerically discontinuous) we convert latitude and longitude to a cartesian coordinate system and this ensures a 1:1 mapping of coordinates.\n",
    "\n",
    "Before we do this we have to flatten the coordinate axes. We do this because the neural net is fed one point in time and space at a time, so we need the coordinate axes to describe every one of these points. "
   ]
  },
  {
   "cell_type": "code",
   "execution_count": 8,
   "metadata": {
    "id": "pqThi2cGqbB5"
   },
   "outputs": [],
   "source": [
    "# Format data so it is suitable for NN input\n",
    "data_len = obs.size\n",
    "lon_data = np.tile(lons, int(data_len / len(lons))).reshape(-1,)\n",
    "lat_data = np.tile(np.repeat(lats, len(lons)), len(time)).reshape(-1,)\n",
    "time_data = np.repeat(time, int(data_len / len(time))).reshape(-1,)\n",
    "mon_data = np.repeat(mons, int(data_len / len(time))).reshape(-1,)\n",
    "\n",
    "x = np.cos(lat_data * np.pi / 180)  * np.cos(lon_data * np.pi / 180)\n",
    "y = np.cos(lat_data * np.pi / 180)  * np.sin(lon_data * np.pi / 180)\n",
    "z = np.sin(lat_data * np.pi / 180)"
   ]
  },
  {
   "cell_type": "markdown",
   "metadata": {
    "id": "4gbFUGWxq84J"
   },
   "source": [
    "The same is true for the month coordinate (running 1 through 12). So we treat months in 2 dimensions much like converting the twelve hours on a clock face into cartesian coordinates."
   ]
  },
  {
   "cell_type": "code",
   "execution_count": 9,
   "metadata": {
    "id": "fUUg3QdXq69e"
   },
   "outputs": [],
   "source": [
    "rads = (mon_data / 12 * 360) * (np.pi / 180)\n",
    "x_mon = np.sin(rads)\n",
    "y_mon = np.cos(rads)"
   ]
  },
  {
   "cell_type": "markdown",
   "metadata": {
    "id": "Fpqaerm1rSEt"
   },
   "source": [
    "The way we have converted the spatial and month coordinates means that they are all between -1 and 1. A min-max scaling of -1 and 1 is important because it means that all the coordinates have equal affect to the weighting algorithm - in this case the neural network. You'll notice that the obs and model output is alerady between -1 and 1 because of the function we chose. If these values were not already scaled we would need to scale them. We therefore also need to min-max scale the temporal coordinate."
   ]
  },
  {
   "cell_type": "code",
   "execution_count": 10,
   "metadata": {
    "id": "c6orHibGrOp9"
   },
   "outputs": [],
   "source": [
    "time_data_scaled = 2 * (time_data - time_data.min()) / (time_data.max() - time_data.min()) - 1"
   ]
  },
  {
   "cell_type": "markdown",
   "metadata": {
    "id": "fx8beWXusZDp"
   },
   "source": [
    "Though we have scaled everything between -1 and 1, these values can be tweaked to control the complexity (wiggliness) of the weighting function. For example, if we changed the latitude coordinate to be between -3 and 3, then the weighting function will fit a wigglier function with respect to latitude. Check out the paper for more details and examples. For now we'll just leave everything at 1."
   ]
  },
  {
   "cell_type": "code",
   "execution_count": 11,
   "metadata": {
    "id": "Rx7QGA0CsYjh"
   },
   "outputs": [],
   "source": [
    "df['x'] = x * 1\n",
    "df['y'] = y * 1\n",
    "df['z'] = z * 1\n",
    "df['x_mon'] = x_mon * 1\n",
    "df['y_mon'] = y_mon * 1\n",
    "df['time'] = time_data_scaled * 1\n",
    "df['obs'] = obs.ravel()"
   ]
  },
  {
   "cell_type": "markdown",
   "metadata": {
    "id": "BNfy6ZIYt4wE"
   },
   "source": [
    "To validate the predictions we'll leave the second 10 years out from training.\n",
    "\n",
    "The first ten years will be randomly split 85% and 15% to form the train and test sets respectively.\n",
    "\n",
    "Note: when the train, test and validation sets are put into numpy arrays, we convert them into float32 to boost computational speed."
   ]
  },
  {
   "cell_type": "code",
   "execution_count": 12,
   "metadata": {
    "id": "6ljWCEevt4KS"
   },
   "outputs": [],
   "source": [
    "df_train_test = df[:int(10 * len(df)/20)]\n",
    "df_validation = df[int(10 * len(df)/20):]\n",
    "\n",
    "df_shuffled = df_train_test.sample(frac=1, random_state=seed)\n",
    "split_idx = round(len(df_shuffled) * 0.85)\n",
    "df_train = df_shuffled[:split_idx]\n",
    "df_test = df_shuffled[split_idx:]\n",
    "\n",
    "# In sample training\n",
    "X_train = df_train.drop(['obs'],axis=1).values.astype(np.float32)\n",
    "y_train = df_train['obs'].values.reshape(-1,1).astype(np.float32)\n",
    "\n",
    "# The in sample testing - this is not used for training\n",
    "X_test = df_test.drop(['obs'],axis=1).values.astype(np.float32)\n",
    "y_test = df_test['obs'].values.reshape(-1,1).astype(np.float32)\n",
    "\n",
    "# For out of sample validation\n",
    "X_validation = df_validation.drop(['obs'],axis=1).values.astype(np.float32)\n",
    "y_val = df_validation['obs'].values.reshape(-1,1).astype(np.float32)"
   ]
  },
  {
   "cell_type": "markdown",
   "metadata": {
    "id": "emv9kSiRvUHK"
   },
   "source": [
    "With all of the data preprocessed it's time to set up the Bayesian neural network ensemble. We start by defining a few crucial variables and our priors."
   ]
  },
  {
   "cell_type": "markdown",
   "metadata": {
    "id": "XuQ51XMwvnZq"
   },
   "source": [
    "Priors on the noise and bias"
   ]
  },
  {
   "cell_type": "code",
   "execution_count": 13,
   "metadata": {
    "id": "BZ-aC3SYn4dm"
   },
   "outputs": [],
   "source": [
    "bias_std = 0.01\n",
    "\n",
    "noise_mean = 0.02\n",
    "noise_std = 0.004"
   ]
  },
  {
   "cell_type": "markdown",
   "metadata": {
    "id": "AynKBhqmvsMF"
   },
   "source": [
    "Hyper-parameters"
   ]
  },
  {
   "cell_type": "code",
   "execution_count": 15,
   "metadata": {
    "id": "SJRxzwCvvr-t"
   },
   "outputs": [],
   "source": [
    "tf.reset_default_graph()\n",
    "\n",
    "num_models = 4                      # Number of (geo)physical models \n",
    "n_ensembles = 20                    # Number of neural nets in ensemble\n",
    "hidden_size = 50                    # Number of nodes in hidden layers\n",
    "n_epochs = 100                      # Number of epochs to train for\n",
    "batch_size = 1000\n",
    "learning_rate = 0.001\n",
    "\n",
    "n_data = X_train.shape[0]                # number of obs\n",
    "x_dim = X_train.shape[1]\n",
    "alpha_dim = x_dim - num_models      # Number of coordinates\n",
    "y_dim = 1"
   ]
  },
  {
   "cell_type": "markdown",
   "metadata": {
    "id": "MsHPoFE5wfk4"
   },
   "source": [
    "Our prior is that all models should be weighted equally i.e. a multi model mean should be the output of the untrained BayNNE. To encode this prior into the BayNNE we determine standard deviations for the networks' weights and bias. This is trial and error to some extent (see below)."
   ]
  },
  {
   "cell_type": "code",
   "execution_count": 16,
   "metadata": {
    "id": "c9bZT9BBwfbN"
   },
   "outputs": [],
   "source": [
    "init_stddev_1_w =  np.sqrt(3.0/(alpha_dim))\n",
    "init_stddev_1_b = init_stddev_1_w\n",
    "init_stddev_2_w =  (1.5)/np.sqrt(hidden_size)\n",
    "init_stddev_2_b = init_stddev_2_w\n",
    "init_stddev_3_w = (1.5*bias_std)/np.sqrt(hidden_size)\n",
    "init_stddev_noise_w = (1.0)/np.sqrt(hidden_size)\n",
    "\n",
    "lambda_anchor = 1.0/(np.array([init_stddev_1_w,init_stddev_1_b,init_stddev_2_w,init_stddev_2_b,init_stddev_3_w,init_stddev_noise_w])**2)"
   ]
  },
  {
   "cell_type": "markdown",
   "metadata": {
    "id": "dgX70YeExhF7"
   },
   "source": [
    "With that all set up we can initialise out the neural networks within the ensemble, where the network weights and biases are drawn from distributions defined by the standard deviations above."
   ]
  },
  {
   "cell_type": "code",
   "execution_count": 19,
   "metadata": {
    "id": "PSZMazxFwfWA"
   },
   "outputs": [],
   "source": [
    "NNs=[]\n",
    "\n",
    "sess = tf.Session()\n",
    "init_weights = []\n",
    "\n",
    "for ens in range(0,n_ensembles):\n",
    "    # These steps initialise the neural networks\n",
    "    NNs.append(bn.NN(x_dim, y_dim, alpha_dim, num_models, n_data, hidden_size, \n",
    "                     init_stddev_1_w, init_stddev_1_b, init_stddev_2_w, init_stddev_2_b, init_stddev_3_w, init_stddev_noise_w,\n",
    "                     learning_rate))\n",
    "    global_vars = tf.global_variables()\n",
    "    is_not_initialized = sess.run([tf.is_variable_initialized(var) for var in global_vars])\n",
    "    not_initialized_vars = [v for (v, f) in zip(global_vars, is_not_initialized) if not f]\n",
    "    if len(not_initialized_vars):\n",
    "        sess.run(tf.variables_initializer(not_initialized_vars))\n",
    "    NNs[ens].anchor(sess, lambda_anchor)"
   ]
  },
  {
   "cell_type": "markdown",
   "metadata": {
    "id": "mELD-NbcyAaT"
   },
   "source": [
    "Now for the crucial check: ensuring that the untrained network matches our priors"
   ]
  },
  {
   "cell_type": "markdown",
   "metadata": {
    "id": "cyqCiHbHyARc"
   },
   "source": [
    "The most important check is that the presoftmax layer has a standard deviation of 1 - this ensures that the untrained network is equally likely to predict any combination of model weights. See figure 2b in the paper for more info"
   ]
  },
  {
   "cell_type": "code",
   "execution_count": 22,
   "metadata": {
    "colab": {
     "base_uri": "https://localhost:8080/",
     "height": 52
    },
    "id": "Bn2aNelUxwSf",
    "outputId": "89792508-bbb6-44b1-e18a-a159e5c653a1"
   },
   "outputs": [
    {
     "name": "stdout",
     "output_type": "stream",
     "text": [
      "Layer 2 mean: 0.024789433926343918\n",
      "Layer 2 Std: 1.0769997835159302\n"
     ]
    }
   ],
   "source": [
    "alpha_w = np.array(bn.get_layer2_output(NNs, X_train, sess))\n",
    "print('Layer 2 mean: {}'.format(np.mean(alpha_w.ravel())))\n",
    "print('Layer 2 Std: {}'.format(np.mean(np.std(alpha_w, axis=0).ravel())))"
   ]
  },
  {
   "cell_type": "markdown",
   "metadata": {
    "id": "ou2tIgPRzThD"
   },
   "source": [
    "It also a good idea to check that the model weights (alphas) and model bias (beta) are the values we encoded in the network"
   ]
  },
  {
   "cell_type": "code",
   "execution_count": 23,
   "metadata": {
    "colab": {
     "base_uri": "https://localhost:8080/",
     "height": 173
    },
    "id": "nJ8XgcBQxeKD",
    "outputId": "378a9532-11ee-4072-f4b7-4328855b78bb"
   },
   "outputs": [
    {
     "name": "stdout",
     "output_type": "stream",
     "text": [
      "Alpha mean should be: 0.25\n",
      "Alpha mean is: 0.25\n",
      "Alpha std should be: 0.19364916731037085\n",
      "Alpha std is: 0.20167286694049835\n",
      "\n",
      "Beta mean should be: 0\n",
      "Beta mean is: -0.0014567244797945023\n",
      "Beta std should be: 0.01\n",
      "Beta std is: 0.010225356556475163\n"
     ]
    }
   ],
   "source": [
    "alphas = np.array(bn.get_alphas(NNs, X_train, sess))\n",
    "print('Alpha mean should be: {}'.format(1/num_models))\n",
    "print('Alpha mean is: {}'.format(np.mean(np.array(alphas).ravel())))\n",
    "print('Alpha std should be: {}'.format(np.sqrt((1/(1 + num_models)) * (1/num_models)*(1-(1/num_models)))))\n",
    "print('Alpha std is: {}'.format(np.mean(np.std(np.array(alphas), axis=0).ravel())))\n",
    "print('')\n",
    "\n",
    "### Beta\n",
    "beta = np.array(bn.get_betas(NNs, X_train, sess))\n",
    "print('Beta mean should be: {}'.format(0))\n",
    "print('Beta mean is: {}'.format(np.mean(beta.ravel())))\n",
    "print('Beta std should be: {}'.format(bias_std))\n",
    "print('Beta std is: {}'.format(np.std(beta.ravel())))"
   ]
  },
  {
   "cell_type": "markdown",
   "metadata": {
    "id": "hRyMnq_N41T6"
   },
   "source": [
    "Now we can train. We train each neural network in the ensemble sequentially, shuffling the training data every 50 epochs. In training we record the RMSE, the anchored loss (which is what we are minismising) and the anchoring term, which is a measure of how far away we are from our prior network weights and biases."
   ]
  },
  {
   "cell_type": "code",
   "execution_count": 25,
   "metadata": {
    "colab": {
     "base_uri": "https://localhost:8080/",
     "height": 1000
    },
    "id": "SXnZwvXj4yJs",
    "outputId": "5c9f78b0-1d00-4b2c-a565-90fbd2b452fc"
   },
   "outputs": [
    {
     "name": "stdout",
     "output_type": "stream",
     "text": [
      "NN: 1\n",
      "epoch:50 at 2020-09-29 17:49:24.895697\n",
      ", rmse_ 0.05122 , loss_anch -4.81539 , anch_term 0.01466\n",
      "epoch:100 at 2020-09-29 17:49:29.704519\n",
      ", rmse_ 0.02331 , loss_anch -6.74755 , anch_term 0.04762\n",
      "NN: 2\n",
      "epoch:50 at 2020-09-29 17:49:35.193180\n",
      ", rmse_ 0.05154 , loss_anch -5.21796 , anch_term 0.01613\n",
      "epoch:100 at 2020-09-29 17:49:38.855370\n",
      ", rmse_ 0.02323 , loss_anch -6.74393 , anch_term 0.04744\n",
      "NN: 3\n",
      "epoch:50 at 2020-09-29 17:49:43.766682\n",
      ", rmse_ 0.06624 , loss_anch -4.61154 , anch_term 0.01398\n",
      "epoch:100 at 2020-09-29 17:49:47.197460\n",
      ", rmse_ 0.02439 , loss_anch -6.65358 , anch_term 0.04219\n",
      "NN: 4\n",
      "epoch:50 at 2020-09-29 17:49:51.499485\n",
      ", rmse_ 0.05425 , loss_anch -5.17675 , anch_term 0.01478\n",
      "epoch:100 at 2020-09-29 17:49:55.000252\n",
      ", rmse_ 0.02362 , loss_anch -6.7114 , anch_term 0.04278\n",
      "NN: 5\n",
      "epoch:50 at 2020-09-29 17:49:59.464712\n",
      ", rmse_ 0.08225 , loss_anch -3.99321 , anch_term 0.01704\n",
      "epoch:100 at 2020-09-29 17:50:02.996621\n",
      ", rmse_ 0.03464 , loss_anch -5.94506 , anch_term 0.02768\n",
      "NN: 6\n",
      "epoch:50 at 2020-09-29 17:50:07.716052\n",
      ", rmse_ 0.05022 , loss_anch -5.24568 , anch_term 0.01395\n",
      "epoch:100 at 2020-09-29 17:50:11.297399\n",
      ", rmse_ 0.02327 , loss_anch -6.74728 , anch_term 0.0425\n",
      "NN: 7\n",
      "epoch:50 at 2020-09-29 17:50:17.371999\n",
      ", rmse_ 0.06574 , loss_anch -4.70546 , anch_term 0.01685\n",
      "epoch:100 at 2020-09-29 17:50:21.635769\n",
      ", rmse_ 0.02461 , loss_anch -6.63652 , anch_term 0.04719\n",
      "NN: 8\n",
      "epoch:50 at 2020-09-29 17:50:26.118846\n",
      ", rmse_ 0.0436 , loss_anch -5.61122 , anch_term 0.02031\n",
      "epoch:100 at 2020-09-29 17:50:30.278702\n",
      ", rmse_ 0.02323 , loss_anch -6.72751 , anch_term 0.04732\n",
      "NN: 9\n",
      "epoch:50 at 2020-09-29 17:50:35.099691\n",
      ", rmse_ 0.0577 , loss_anch -5.06144 , anch_term 0.01589\n",
      "epoch:100 at 2020-09-29 17:50:38.718043\n",
      ", rmse_ 0.02366 , loss_anch -6.70343 , anch_term 0.04414\n",
      "NN: 10\n",
      "epoch:50 at 2020-09-29 17:50:43.214873\n",
      ", rmse_ 0.0622 , loss_anch -4.75664 , anch_term 0.01506\n",
      "epoch:100 at 2020-09-29 17:50:46.882800\n",
      ", rmse_ 0.02384 , loss_anch -6.69769 , anch_term 0.04211\n",
      "NN: 11\n",
      "epoch:50 at 2020-09-29 17:50:52.773742\n",
      ", rmse_ 0.06197 , loss_anch -4.95879 , anch_term 0.01692\n",
      "epoch:100 at 2020-09-29 17:50:57.600429\n",
      ", rmse_ 0.02378 , loss_anch -6.7024 , anch_term 0.04553\n",
      "NN: 12\n",
      "epoch:50 at 2020-09-29 17:51:03.287598\n",
      ", rmse_ 0.06075 , loss_anch -4.54599 , anch_term 0.01538\n",
      "epoch:100 at 2020-09-29 17:51:08.365437\n",
      ", rmse_ 0.02376 , loss_anch -6.67651 , anch_term 0.04946\n",
      "NN: 13\n",
      "epoch:50 at 2020-09-29 17:51:17.833374\n",
      ", rmse_ 0.07036 , loss_anch -4.74264 , anch_term 0.01536\n",
      "epoch:100 at 2020-09-29 17:51:22.014257\n",
      ", rmse_ 0.02607 , loss_anch -6.55301 , anch_term 0.04308\n",
      "NN: 14\n",
      "epoch:50 at 2020-09-29 17:51:29.678288\n",
      ", rmse_ 0.06277 , loss_anch -4.95578 , anch_term 0.0152\n",
      "epoch:100 at 2020-09-29 17:51:41.328472\n",
      ", rmse_ 0.02465 , loss_anch -6.61287 , anch_term 0.04796\n",
      "NN: 15\n",
      "epoch:50 at 2020-09-29 17:51:53.494429\n",
      ", rmse_ 0.06554 , loss_anch -4.46416 , anch_term 0.01617\n",
      "epoch:100 at 2020-09-29 17:51:59.390792\n",
      ", rmse_ 0.0241 , loss_anch -6.65013 , anch_term 0.04716\n",
      "NN: 16\n",
      "epoch:50 at 2020-09-29 17:52:05.660509\n",
      ", rmse_ 0.05412 , loss_anch -5.08933 , anch_term 0.01627\n",
      "epoch:100 at 2020-09-29 17:52:10.756192\n",
      ", rmse_ 0.02375 , loss_anch -6.6554 , anch_term 0.0498\n",
      "NN: 17\n",
      "epoch:50 at 2020-09-29 17:52:17.213176\n",
      ", rmse_ 0.04903 , loss_anch -5.30759 , anch_term 0.01513\n",
      "epoch:100 at 2020-09-29 17:52:22.818286\n",
      ", rmse_ 0.02335 , loss_anch -6.7268 , anch_term 0.0484\n",
      "NN: 18\n",
      "epoch:50 at 2020-09-29 17:52:28.650605\n",
      ", rmse_ 0.06527 , loss_anch -4.5413 , anch_term 0.01534\n",
      "epoch:100 at 2020-09-29 17:52:33.615495\n",
      ", rmse_ 0.02409 , loss_anch -6.66496 , anch_term 0.04545\n",
      "NN: 19\n",
      "epoch:50 at 2020-09-29 17:52:39.000660\n",
      ", rmse_ 0.05621 , loss_anch -5.08219 , anch_term 0.01605\n",
      "epoch:100 at 2020-09-29 17:52:43.984832\n",
      ", rmse_ 0.02371 , loss_anch -6.69876 , anch_term 0.04955\n",
      "NN: 20\n",
      "epoch:50 at 2020-09-29 17:52:51.217992\n",
      ", rmse_ 0.06531 , loss_anch -4.7389 , anch_term 0.01571\n",
      "epoch:100 at 2020-09-29 17:52:55.865587\n",
      ", rmse_ 0.02465 , loss_anch -6.63773 , anch_term 0.0395\n"
     ]
    }
   ],
   "source": [
    "l_s = []\n",
    "m_s = []\n",
    "a_s = []\n",
    "\n",
    "for ens in range(0,n_ensembles):\n",
    "    ep_ = 0\n",
    "    losses = []\n",
    "    mses = []\n",
    "    anchs = []\n",
    "    print('NN:',ens + 1)\n",
    "    while ep_ < n_epochs:\n",
    "        if (ep_ % 50 == 0):\n",
    "            X_train, y_train = shuffle(X_train, y_train, random_state = ep_)\n",
    "\n",
    "        ep_ += 1\n",
    "        for j in range(int(n_data/batch_size)): #minibatch training loop\n",
    "            feed_b = {}\n",
    "            feed_b[NNs[ens].inputs] = X_train[j*batch_size:(j+1)*batch_size, :]\n",
    "            feed_b[NNs[ens].y_target] = y_train[j*batch_size:(j+1)*batch_size, :]\n",
    "            blank = sess.run(NNs[ens].optimizer, feed_dict=feed_b)\n",
    "        if (ep_ % 50) == 0: \n",
    "            feed_b = {}\n",
    "            feed_b[NNs[ens].inputs] = X_train\n",
    "            feed_b[NNs[ens].y_target] = y_train\n",
    "            loss_mse = sess.run(NNs[ens].mse_, feed_dict=feed_b)\n",
    "            loss_anch = sess.run(NNs[ens].loss_, feed_dict=feed_b)\n",
    "            loss_anch_term = sess.run(NNs[ens].loss_anchor, feed_dict=feed_b)\n",
    "            losses.append(loss_anch)\n",
    "            mses.append(loss_mse)\n",
    "            anchs.append(loss_anch_term)\n",
    "        if (ep_ % 50 == 0):\n",
    "            print('epoch:' + str(ep_) + ' at ' + str(datetime.datetime.now()))\n",
    "            print(', rmse_', np.round(np.sqrt(loss_mse),5), ', loss_anch', np.round(loss_anch,5), ', anch_term', np.round(loss_anch_term,5))\n",
    "    l_s.append(losses)\n",
    "    m_s.append(mses)\n",
    "    a_s.append(anchs)"
   ]
  },
  {
   "cell_type": "markdown",
   "metadata": {
    "id": "vj9hWEoQ5XQz"
   },
   "source": [
    "Make predictions for train, test and validations"
   ]
  },
  {
   "cell_type": "code",
   "execution_count": 26,
   "metadata": {
    "id": "C5JKQn8r4yHB"
   },
   "outputs": [],
   "source": [
    "#use trained NN ensemble to generate predictions\n",
    "y_preds_train, y_preds_mu_train, y_preds_std_train, y_preds_std_train_epi, y_preds_noisesq_train = bn.fn_predict_ensemble(NNs,X_train, sess)\n",
    "y_preds_test, y_preds_mu_test, y_preds_std_test, y_preds_std_test_epi, y_preds_noisesq_test = bn.fn_predict_ensemble(NNs,X_test, sess)\n",
    "y_preds_val, y_preds_mu_val, y_preds_std_val, y_preds_std_val_epi, y_preds_noisesq_val = bn.fn_predict_ensemble(NNs,X_validation, sess)"
   ]
  },
  {
   "cell_type": "markdown",
   "metadata": {
    "id": "WIaGc_3p9lRU"
   },
   "source": [
    "A little function for putting the flattened data back into 3 dimensions, and another for assessing how good the uncertainty quantification is (i.e. is it inline with Gaussian errors)"
   ]
  },
  {
   "cell_type": "code",
   "execution_count": 27,
   "metadata": {
    "id": "csJRJf2Y4yEv"
   },
   "outputs": [],
   "source": [
    "def reshape3d(in_array):\n",
    "\n",
    "    lat_len = len(lats)\n",
    "    lon_len = len(lons)\n",
    "    time_len = len(time)\n",
    "\n",
    "    output = np.zeros([time_len, lat_len, lon_len])\n",
    "\n",
    "    for t in range(time_len):\n",
    "        output[t,:,:] = in_array[lat_len * lon_len * (t): lat_len * lon_len * (t+1)].reshape([lat_len, lon_len])\n",
    "    \n",
    "    return output\n",
    "\n",
    "\n",
    "def report_on_percentiles(y, y_pred, y_std):\n",
    "\n",
    "    n = len(y.ravel())\n",
    "    n1 = np.sum(np.abs(y_pred.ravel() - y.ravel()) <= y_std.ravel() * 1)\n",
    "    n2 = np.sum(np.abs(y_pred.ravel() - y.ravel()) <= y_std.ravel() * 2)\n",
    "    n3 = np.sum(np.abs(y_pred.ravel() - y.ravel()) <= y_std.ravel() * 3)\n",
    "    print('{} within 1 std'.format(100 * n1 / n))\n",
    "    print('{} within 2 std'.format(100 * n2 / n))\n",
    "    print('{} within 3 std'.format(100 * n3 / n))\n",
    "\n",
    "    return"
   ]
  },
  {
   "cell_type": "markdown",
   "metadata": {
    "id": "q2kr9Pd79svK"
   },
   "source": [
    "Firstly let's look at the performance of the BayNNE - root mean squard and negative log likelihood for train, test and validation."
   ]
  },
  {
   "cell_type": "code",
   "execution_count": 28,
   "metadata": {
    "colab": {
     "base_uri": "https://localhost:8080/",
     "height": 69
    },
    "id": "07FK6o0k4yCi",
    "outputId": "b3f37779-2914-4eec-a482-1bf71d0af25d"
   },
   "outputs": [
    {
     "name": "stdout",
     "output_type": "stream",
     "text": [
      "Train NLL: -2.456717014312744\n",
      "Test NLL: -2.466005563735962\n",
      "Out of sample NLL: -2.3556315898895264\n"
     ]
    }
   ],
   "source": [
    "print('Train NLL: {}'.format(np.mean(0.5*((((y_preds_mu_train.ravel() - y_train.ravel())**2)/((y_preds_std_train.ravel()**2)) + np.log(y_preds_std_train.ravel()**2) + np.log(2*np.pi))))))\n",
    "print('Test NLL: {}'.format(np.mean(0.5*((((y_preds_mu_test.ravel() - y_test.ravel())**2)/((y_preds_std_test.ravel()**2)) + np.log(y_preds_std_test.ravel()**2) + np.log(2*np.pi))))))\n",
    "print('Out of sample NLL: {}'.format(np.mean(0.5*((((y_preds_mu_val.ravel() - y_val.ravel())**2)/((y_preds_std_val.ravel()**2)) + np.log(y_preds_std_val.ravel()**2) + np.log(2*np.pi))))))"
   ]
  },
  {
   "cell_type": "code",
   "execution_count": 29,
   "metadata": {
    "colab": {
     "base_uri": "https://localhost:8080/",
     "height": 69
    },
    "id": "qy73uyKb4x-_",
    "outputId": "aadd84ca-a181-4c66-ddc0-d3efb4e9bbe2"
   },
   "outputs": [
    {
     "name": "stdout",
     "output_type": "stream",
     "text": [
      "Train RMSE: 0.023772409185767174\n",
      "Test RMSE: 0.023385705426335335\n",
      "Out of sample RMSE: 0.02620028890669346\n"
     ]
    }
   ],
   "source": [
    "print('Train RMSE: {}'.format(np.sqrt(np.mean(np.square(y_preds_mu_train.ravel() - y_train.ravel())))))\n",
    "print('Test RMSE: {}'.format(np.sqrt(np.mean(np.square(y_preds_mu_test.ravel() - y_test.ravel())))))\n",
    "print('Out of sample RMSE: {}'.format(np.sqrt(np.mean(np.square(y_preds_mu_val.ravel() - y_val.ravel())))))"
   ]
  },
  {
   "cell_type": "markdown",
   "metadata": {
    "id": "-nX__BVa-w5d"
   },
   "source": [
    "We can look if the uncertainty quantification is good. We would expect 68%, 95%, 98% of the points to lie within 1, 2, 3 standard deviations respectively."
   ]
  },
  {
   "cell_type": "code",
   "execution_count": 30,
   "metadata": {
    "colab": {
     "base_uri": "https://localhost:8080/",
     "height": 225
    },
    "id": "iL_-6iZpxeGk",
    "outputId": "7a99280c-bc6c-4dd1-d529-8158ff8468b5"
   },
   "outputs": [
    {
     "name": "stdout",
     "output_type": "stream",
     "text": [
      "For training\n",
      "73.47834967320262 within 1 std\n",
      "97.25456154684096 within 2 std\n",
      "99.88596132897604 within 3 std\n",
      "For testing\n",
      "73.94868827160494 within 1 std\n",
      "97.41512345679013 within 2 std\n",
      "99.93248456790124 within 3 std\n",
      "For out of sample\n",
      "81.67824074074075 within 1 std\n",
      "99.0379050925926 within 2 std\n",
      "99.96527777777777 within 3 std\n"
     ]
    }
   ],
   "source": [
    "print('For training')\n",
    "report_on_percentiles(y_train, y_preds_mu_train, y_preds_std_train)\n",
    "print('For testing')\n",
    "report_on_percentiles(y_test, y_preds_mu_test, y_preds_std_test)\n",
    "print('For out of sample')\n",
    "report_on_percentiles(y_val, y_preds_mu_val, y_preds_std_val)"
   ]
  },
  {
   "cell_type": "markdown",
   "metadata": {
    "id": "2NhBu9-O_cA1"
   },
   "source": [
    "Has the BayNNE managed to recover the model weights, biases and aleatoric (observational) noise we designed? We do in sample (in) and out of sample (validation) seperately - largely because of RAM constraints"
   ]
  },
  {
   "cell_type": "code",
   "execution_count": 31,
   "metadata": {
    "id": "ItCHhxAN_b2X"
   },
   "outputs": [],
   "source": [
    "X_in = df_train_test.drop(['obs'],axis=1).values.astype(np.float32)\n",
    "y_in = df_train_test['obs'].values.reshape(-1,1).astype(np.float32)\n",
    "\n",
    "alphas = np.array(bn.get_alphas(NNs, X_in, sess))\n",
    "alpha_in = np.mean(alphas, axis=0)\n",
    "\n",
    "betas = np.array(bn.get_betas(NNs, X_in, sess))\n",
    "beta_in = np.mean(betas, axis=(0,2))\n",
    "\n",
    "aleatoric_noises = bn.get_aleatoric_noise(NNs, X_in, sess)\n",
    "a_n_in = np.mean(np.array(aleatoric_noises), axis=0)\n",
    "\n",
    "alphas = np.array(bn.get_alphas(NNs, X_validation, sess))\n",
    "alpha_out = np.mean(alphas, axis=0)\n",
    "\n",
    "betas = np.array(bn.get_betas(NNs, X_validation, sess))\n",
    "beta_out = np.mean(betas, axis=(0,2))\n",
    "\n",
    "aleatoric_noises = bn.get_aleatoric_noise(NNs, X_in, sess)\n",
    "a_n_out = np.mean(np.array(aleatoric_noises), axis=0)"
   ]
  },
  {
   "cell_type": "code",
   "execution_count": 33,
   "metadata": {
    "id": "hHLLruRPMwZ2"
   },
   "outputs": [],
   "source": [
    "noise = reshape3d(np.hstack([a_n_in, a_n_out]))\n",
    "alpha = np.vstack([alpha_in, alpha_out])\n",
    "beta = np.hstack([beta_in, beta_out])"
   ]
  },
  {
   "cell_type": "code",
   "execution_count": 40,
   "metadata": {},
   "outputs": [
    {
     "data": {
      "text/plain": [
       "<matplotlib.colorbar.Colorbar at 0xd2dd40a90>"
      ]
     },
     "execution_count": 40,
     "metadata": {},
     "output_type": "execute_result"
    },
    {
     "data": {
      "image/png": "[encoded data removed]",
      "text/plain": [
       "<Figure size 432x288 with 2 Axes>"
      ]
     },
     "metadata": {
      "needs_background": "light"
     },
     "output_type": "display_data"
    }
   ],
   "source": [
    "plt.pcolormesh(reshape3d(alpha[:, 2])[180], vmin=0, vmax=1)\n",
    "plt.colorbar()"
   ]
  },
  {
   "cell_type": "code",
   "execution_count": 34,
   "metadata": {
    "colab": {
     "base_uri": "https://localhost:8080/",
     "height": 363
    },
    "id": "pNJa8_NK_b0J",
    "outputId": "7e5d5847-f182-4944-9ed3-aa8cd24eee53"
   },
   "outputs": [
    {
     "ename": "NameError",
     "evalue": "name 'm' is not defined",
     "output_type": "error",
     "traceback": [
      "\u001b[0;31m---------------------------------------------------------------------------\u001b[0m",
      "\u001b[0;31mNameError\u001b[0m                                 Traceback (most recent call last)",
      "\u001b[0;32m<ipython-input-34-91267af24812>\u001b[0m in \u001b[0;36m<module>\u001b[0;34m\u001b[0m\n\u001b[1;32m      2\u001b[0m \u001b[0mfig\u001b[0m\u001b[0;34m,\u001b[0m \u001b[0maxes\u001b[0m \u001b[0;34m=\u001b[0m \u001b[0mplt\u001b[0m\u001b[0;34m.\u001b[0m\u001b[0msubplots\u001b[0m\u001b[0;34m(\u001b[0m\u001b[0mnrows\u001b[0m\u001b[0;34m=\u001b[0m\u001b[0;36m2\u001b[0m\u001b[0;34m,\u001b[0m \u001b[0mncols\u001b[0m\u001b[0;34m=\u001b[0m\u001b[0;36m3\u001b[0m\u001b[0;34m,\u001b[0m \u001b[0mfigsize\u001b[0m\u001b[0;34m=\u001b[0m\u001b[0;34m(\u001b[0m\u001b[0;36m11\u001b[0m\u001b[0;34m,\u001b[0m\u001b[0;36m6\u001b[0m\u001b[0;34m)\u001b[0m\u001b[0;34m)\u001b[0m\u001b[0;34m\u001b[0m\u001b[0;34m\u001b[0m\u001b[0m\n\u001b[1;32m      3\u001b[0m \u001b[0;34m\u001b[0m\u001b[0m\n\u001b[0;32m----> 4\u001b[0;31m \u001b[0mp1\u001b[0m \u001b[0;34m=\u001b[0m \u001b[0mm\u001b[0m\u001b[0;34m.\u001b[0m\u001b[0mpcolormesh\u001b[0m\u001b[0;34m(\u001b[0m\u001b[0mx_plot\u001b[0m\u001b[0;34m,\u001b[0m \u001b[0my_plot\u001b[0m\u001b[0;34m,\u001b[0m \u001b[0mreshape3d\u001b[0m\u001b[0;34m(\u001b[0m\u001b[0malpha\u001b[0m\u001b[0;34m[\u001b[0m\u001b[0;34m:\u001b[0m\u001b[0;34m,\u001b[0m \u001b[0;36m0\u001b[0m\u001b[0;34m]\u001b[0m\u001b[0;34m)\u001b[0m\u001b[0;34m[\u001b[0m\u001b[0;36m180\u001b[0m\u001b[0;34m]\u001b[0m\u001b[0;34m,\u001b[0m \u001b[0mvmin\u001b[0m\u001b[0;34m=\u001b[0m\u001b[0;36m0\u001b[0m\u001b[0;34m,\u001b[0m \u001b[0mvmax\u001b[0m\u001b[0;34m=\u001b[0m\u001b[0;36m1\u001b[0m\u001b[0;34m,\u001b[0m \u001b[0max\u001b[0m\u001b[0;34m=\u001b[0m\u001b[0maxes\u001b[0m\u001b[0;34m[\u001b[0m\u001b[0;36m0\u001b[0m\u001b[0;34m]\u001b[0m\u001b[0;34m[\u001b[0m\u001b[0;36m0\u001b[0m\u001b[0;34m]\u001b[0m\u001b[0;34m)\u001b[0m\u001b[0;34m\u001b[0m\u001b[0;34m\u001b[0m\u001b[0m\n\u001b[0m\u001b[1;32m      5\u001b[0m \u001b[0maxes\u001b[0m\u001b[0;34m[\u001b[0m\u001b[0;36m0\u001b[0m\u001b[0;34m]\u001b[0m\u001b[0;34m[\u001b[0m\u001b[0;36m0\u001b[0m\u001b[0;34m]\u001b[0m\u001b[0;34m.\u001b[0m\u001b[0mxaxis\u001b[0m\u001b[0;34m.\u001b[0m\u001b[0mset_ticklabels\u001b[0m\u001b[0;34m(\u001b[0m\u001b[0;34m[\u001b[0m\u001b[0;34m]\u001b[0m\u001b[0;34m)\u001b[0m\u001b[0;34m\u001b[0m\u001b[0;34m\u001b[0m\u001b[0m\n\u001b[1;32m      6\u001b[0m \u001b[0maxes\u001b[0m\u001b[0;34m[\u001b[0m\u001b[0;36m0\u001b[0m\u001b[0;34m]\u001b[0m\u001b[0;34m[\u001b[0m\u001b[0;36m0\u001b[0m\u001b[0;34m]\u001b[0m\u001b[0;34m.\u001b[0m\u001b[0mtitle\u001b[0m\u001b[0;34m.\u001b[0m\u001b[0mset_text\u001b[0m\u001b[0;34m(\u001b[0m\u001b[0;34m'Model 1'\u001b[0m\u001b[0;34m)\u001b[0m\u001b[0;34m\u001b[0m\u001b[0;34m\u001b[0m\u001b[0m\n",
      "\u001b[0;31mNameError\u001b[0m: name 'm' is not defined"
     ]
    },
    {
     "data": {
      "image/png": "[encoded data removed]",
      "text/plain": [
       "<Figure size 792x432 with 6 Axes>"
      ]
     },
     "metadata": {
      "needs_background": "light"
     },
     "output_type": "display_data"
    }
   ],
   "source": [
    "# Plot model coefficients\n",
    "fig, axes = plt.subplots(nrows=2, ncols=3, figsize=(11,6))\n",
    "\n",
    "p1 = m.pcolormesh(x_plot, y_plot, reshape3d(alpha[:, 0])[180], vmin=0, vmax=1, ax=axes[0][0])\n",
    "axes[0][0].xaxis.set_ticklabels([])\n",
    "axes[0][0].title.set_text('Model 1')\n",
    "m.drawcoastlines(color='white', ax=axes[0][0])\n",
    "\n",
    "p2 = m.pcolormesh(x_plot, y_plot, reshape3d(alpha[:, 1])[180], vmin=0, vmax=1, ax=axes[0][1])\n",
    "axes[0][1].xaxis.set_ticklabels([])\n",
    "axes[0][1].yaxis.set_ticklabels([])\n",
    "axes[0][1].title.set_text('Model 2')\n",
    "m.drawcoastlines(color='white', ax=axes[0][1])\n",
    "\n",
    "p3 = m.pcolormesh(x_plot, y_plot, reshape3d(alpha[:, 2])[180], vmin=0, vmax=1, ax=axes[1][0])\n",
    "axes[1][0].title.set_text('Model 3')\n",
    "m.drawcoastlines(color='white', ax=axes[1][0])\n",
    "\n",
    "p4  = m.pcolormesh(x_plot, y_plot, reshape3d(alpha[:, 3])[180], vmin=0, vmax=1, ax=axes[1][1])\n",
    "axes[1][1].yaxis.set_ticklabels([])\n",
    "axes[1][1].title.set_text('Model 4')\n",
    "m.drawcoastlines(color='white', ax=axes[1][1])\n",
    "\n",
    "p5 = m.pcolormesh(x_plot, y_plot, reshape3d(beta)[180], vmin=-0.03, vmax=0.03, ax=axes[0][2], cmap=plt.cm.inferno)\n",
    "axes[0][2].yaxis.set_ticklabels([])\n",
    "axes[0][2].title.set_text('Model bias')\n",
    "m.drawcoastlines(color='white', ax=axes[0][2], )\n",
    "cbar = m.colorbar(p5, ax=axes[0][2])\n",
    "cbar.set_ticks([-0.03,0,0.03])\n",
    "\n",
    "p6 = m.pcolormesh(x_plot, y_plot, noise[180], ax=axes[1][2], vmin=0.01, cmap=plt.cm.inferno)\n",
    "axes[1][2].yaxis.set_ticklabels([])\n",
    "axes[1][2].title.set_text('Aleatoric noise')\n",
    "m.drawcoastlines(color='white', ax=axes[1][2])\n",
    "m.colorbar(p6, ax=axes[1][2])\n",
    "\n",
    "cb = fig.colorbar(p4, ax=axes[:2, :2].ravel().tolist(), location='bottom')\n",
    "cb.set_label('Model weights')"
   ]
  }
 ],
 "metadata": {
  "colab": {
   "name": "toy_dataset",
   "provenance": []
  },
  "kernelspec": {
   "display_name": "Python 3",
   "language": "python",
   "name": "python3"
  },
  "language_info": {
   "codemirror_mode": {
    "name": "ipython",
    "version": 3
   },
   "file_extension": ".py",
   "mimetype": "text/x-python",
   "name": "python",
   "nbconvert_exporter": "python",
   "pygments_lexer": "ipython3",
   "version": "3.6.8"
  }
 },
 "nbformat": 4,
 "nbformat_minor": 2
}
